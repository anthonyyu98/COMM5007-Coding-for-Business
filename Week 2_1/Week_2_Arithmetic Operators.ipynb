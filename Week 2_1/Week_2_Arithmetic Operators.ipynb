{
    "metadata": {
        "kernelspec": {
            "name": "python3",
            "display_name": "Python 3 (ipykernel)",
            "language": "python"
        }
    },
    "nbformat": 4,
    "nbformat_minor": 1,
    "cells": [
        {
            "attachments": {},
            "cell_type": "markdown",
            "metadata": {},
            "source": [
                "## **Arithmetic Operators**\n",
                ""
            ]
        },
        {
            "attachments": {},
            "cell_type": "markdown",
            "metadata": {},
            "source": [
                "\u003cp\u003eExpressions in Python can include operations among compatible types (e.g., integers and floats). For example, basic arithmetic operations like adding multiple numbers:\u003c/p\u003e\n",
                ""
            ]
        },
        {
            "cell_type": "code",
            "execution_count": 1,
            "metadata": {},
            "outputs": [
                {
                    "data": {
                        "text/plain": "166"
                    },
                    "execution_count": 1,
                    "metadata": {},
                    "output_type": "execute_result"
                }
            ],
            "source": [
                "# Addition operation expression\n",
                "\n",
                "43 + 42 + 41 + 40"
            ]
        },
        {
            "attachments": {},
            "cell_type": "markdown",
            "metadata": {},
            "source": [
                "\u003cp\u003eWe can perform subtraction operations using the minus operator. In this case the result is a negative number:\u003c/p\u003e\n",
                ""
            ]
        },
        {
            "cell_type": "code",
            "execution_count": 2,
            "metadata": {},
            "outputs": [
                {
                    "data": {
                        "text/plain": "-10"
                    },
                    "execution_count": 2,
                    "metadata": {},
                    "output_type": "execute_result"
                }
            ],
            "source": [
                "# Subtraction operation expression\n",
                "\n",
                "50 - 60"
            ]
        },
        {
            "attachments": {},
            "cell_type": "markdown",
            "metadata": {},
            "source": [
                "\u003cp\u003eWe can do multiplication using an asterisk:\u003c/p\u003e\n",
                ""
            ]
        },
        {
            "cell_type": "code",
            "execution_count": 3,
            "metadata": {},
            "outputs": [
                {
                    "data": {
                        "text/plain": "25"
                    },
                    "execution_count": 3,
                    "metadata": {},
                    "output_type": "execute_result"
                }
            ],
            "source": [
                "# Multiplication operation expression\n",
                "\n",
                "5 * 5"
            ]
        },
        {
            "attachments": {},
            "cell_type": "markdown",
            "metadata": {},
            "source": [
                "\u003cp\u003eWe can also perform division with the forward slash:\n",
                ""
            ]
        },
        {
            "cell_type": "code",
            "execution_count": 4,
            "metadata": {},
            "outputs": [
                {
                    "data": {
                        "text/plain": "5.0"
                    },
                    "execution_count": 4,
                    "metadata": {},
                    "output_type": "execute_result"
                }
            ],
            "source": [
                "# Division operation expression\n",
                "\n",
                "25 / 5"
            ]
        },
        {
            "cell_type": "code",
            "execution_count": 5,
            "metadata": {},
            "outputs": [
                {
                    "data": {
                        "text/plain": "4.166666666666667"
                    },
                    "execution_count": 5,
                    "metadata": {},
                    "output_type": "execute_result"
                }
            ],
            "source": [
                "# Division operation expression\n",
                "\n",
                "25 / 6"
            ]
        },
        {
            "attachments": {},
            "cell_type": "markdown",
            "metadata": {},
            "source": [
                "we can use the double slash **//** for integer division, where the result is rounded down to the nearest integer:"
            ]
        },
        {
            "cell_type": "code",
            "execution_count": 6,
            "metadata": {},
            "outputs": [
                {
                    "data": {
                        "text/plain": "4"
                    },
                    "execution_count": 6,
                    "metadata": {},
                    "output_type": "execute_result"
                }
            ],
            "source": [
                "# Floor/Integer division operation expression\n",
                "\n",
                "25 // 6"
            ]
        },
        {
            "cell_type": "code",
            "execution_count": 7,
            "metadata": {},
            "outputs": [
                {
                    "data": {
                        "text/plain": "5"
                    },
                    "execution_count": 7,
                    "metadata": {},
                    "output_type": "execute_result"
                }
            ],
            "source": [
                "# Floor/Integer division operation expression\n",
                "\n",
                "25 // 5"
            ]
        },
        {
            "attachments": {},
            "cell_type": "markdown",
            "metadata": {},
            "source": [
                "The modulus operator (%) in Python is used to compute the remainder of a division operation. For example:"
            ]
        },
        {
            "cell_type": "code",
            "execution_count": 8,
            "metadata": {},
            "outputs": [
                {
                    "name": "stdout",
                    "output_type": "stream",
                    "text": "1\n"
                }
            ],
            "source": [
                "x = 7\n",
                "y = 3\n",
                "print(x % y)  # prints 1"
            ]
        },
        {
            "attachments": {},
            "cell_type": "markdown",
            "metadata": {},
            "source": [
                "### **Exercise**"
            ]
        },
        {
            "attachments": {},
            "cell_type": "markdown",
            "metadata": {},
            "source": [
                "\u003cp\u003eWhat is the data type of the result of: \u003ccode\u003e6 / 2\u003c/code\u003e?\u003c/p\u003e\n",
                ""
            ]
        },
        {
            "cell_type": "code",
            "execution_count": 9,
            "metadata": {},
            "outputs": [],
            "source": [
                "# Write your code below. Don't forget to press Shift+Enter to execute the cell\n",
                ""
            ]
        },
        {
            "attachments": {},
            "cell_type": "markdown",
            "metadata": {},
            "source": [
                "\u003cdetails\u003e\u003csummary\u003eClick here for the solution\u003c/summary\u003e\n",
                "\n",
                "```python\n",
                "type(6/2) # float\n",
                "\n",
                "```\n",
                "\n",
                "\u003c/details\u003e\n",
                ""
            ]
        },
        {
            "attachments": {},
            "cell_type": "markdown",
            "metadata": {},
            "source": [
                "\u003cp\u003eWhat is the type of the result of: \u003ccode\u003e6 // 2\u003c/code\u003e? (Note the double slash \u003ccode\u003e//\u003c/code\u003e.)\u003c/p\u003e\n",
                ""
            ]
        },
        {
            "cell_type": "code",
            "execution_count": 10,
            "metadata": {},
            "outputs": [],
            "source": [
                "# Write your code below. Don't forget to press Shift+Enter to execute the cell\n",
                ""
            ]
        },
        {
            "attachments": {},
            "cell_type": "markdown",
            "metadata": {},
            "source": [
                "\u003cdetails\u003e\u003csummary\u003eClick here for the solution\u003c/summary\u003e\n",
                "\n",
                "```python\n",
                "type(6//2) # int, as the double slashes stand for integer division \n",
                "\n",
                "```\n",
                "\n",
                "\u003c/details\u003e\n",
                ""
            ]
        },
        {
            "attachments": {},
            "cell_type": "markdown",
            "metadata": {},
            "source": [
                "Let's write an expression that calculates how many hours there are in **120** minutes:"
            ]
        },
        {
            "cell_type": "code",
            "execution_count": 11,
            "metadata": {},
            "outputs": [],
            "source": [
                "# Write your code below. Don't forget to press Shift+Enter to execute the cell\n",
                "\n",
                ""
            ]
        },
        {
            "attachments": {},
            "cell_type": "markdown",
            "metadata": {},
            "source": [
                "\u003cdetails\u003e\u003csummary\u003eClick here for the solution\u003c/summary\u003e\n",
                "\n",
                "```python\n",
                "120/60 \n",
                "\n",
                "# Or \n",
                "\n",
                "120//60\n",
                "\n",
                "```\n",
                "\n",
                "\u003c/details\u003e\n",
                "\n",
                "Notice that / will return the decimal number while // not"
            ]
        },
        {
            "attachments": {},
            "cell_type": "markdown",
            "metadata": {},
            "source": [
                "\u003cp\u003ePython follows well accepted mathematical conventions when evaluating mathematical expressions. In the following example, Python adds 30 to the result of the multiplication (i.e., 120).\n",
                ""
            ]
        },
        {
            "cell_type": "code",
            "execution_count": 12,
            "metadata": {},
            "outputs": [
                {
                    "data": {
                        "text/plain": "150.0"
                    },
                    "execution_count": 12,
                    "metadata": {},
                    "output_type": "execute_result"
                }
            ],
            "source": [
                "# Mathematical expression\n",
                "\n",
                "30.0 + 2 * 60"
            ]
        },
        {
            "attachments": {},
            "cell_type": "markdown",
            "metadata": {},
            "source": [
                "\u003cp\u003eAnd just like mathematics, expressions enclosed in parentheses have priority. So the following multiplies 32 by 60.\n",
                ""
            ]
        },
        {
            "cell_type": "code",
            "execution_count": 13,
            "metadata": {},
            "outputs": [
                {
                    "data": {
                        "text/plain": "1920"
                    },
                    "execution_count": 13,
                    "metadata": {},
                    "output_type": "execute_result"
                }
            ],
            "source": [
                "# Mathematical expression\n",
                "\n",
                "(30 + 2) * 60"
            ]
        },
        {
            "attachments": {},
            "cell_type": "markdown",
            "metadata": {},
            "source": [
                "### **Expression**"
            ]
        },
        {
            "attachments": {},
            "cell_type": "markdown",
            "metadata": {},
            "source": [
                "We can also perform operations on a variable **x** and save the result to a new variable:"
            ]
        },
        {
            "cell_type": "code",
            "execution_count": 14,
            "metadata": {},
            "outputs": [
                {
                    "data": {
                        "text/plain": "0.6666666666666666"
                    },
                    "execution_count": 14,
                    "metadata": {},
                    "output_type": "execute_result"
                }
            ],
            "source": [
                "# Use another variable to store the result of the operation between variable and value\n",
                "x = 40\n",
                "y = x / 60\n",
                "y"
            ]
        },
        {
            "attachments": {},
            "cell_type": "markdown",
            "metadata": {},
            "source": [
                "\n",
                "\n",
                "\u003cp\u003eIf we save a value to an existing variable, the new value will overwrite the previous value:\u003c/p\u003e\n",
                ""
            ]
        },
        {
            "cell_type": "code",
            "execution_count": 15,
            "metadata": {},
            "outputs": [
                {
                    "data": {
                        "text/plain": "0.6666666666666666"
                    },
                    "execution_count": 15,
                    "metadata": {},
                    "output_type": "execute_result"
                }
            ],
            "source": [
                "# Overwrite variable with new value\n",
                "\n",
                "x = x / 60\n",
                "x"
            ]
        },
        {
            "attachments": {},
            "cell_type": "markdown",
            "metadata": {},
            "source": [
                "\u003cp\u003eIt's a good practice to use meaningful variable names, so you and others can read the code and understand it more easily:\u003c/p\u003e\n",
                ""
            ]
        },
        {
            "cell_type": "code",
            "execution_count": 16,
            "metadata": {},
            "outputs": [
                {
                    "data": {
                        "text/plain": "142"
                    },
                    "execution_count": 16,
                    "metadata": {},
                    "output_type": "execute_result"
                }
            ],
            "source": [
                "# Name the variables meaningfully\n",
                "\n",
                "total_min = 43 + 42 + 57 # Total length of movies in minutes\n",
                "total_min"
            ]
        },
        {
            "cell_type": "code",
            "execution_count": 17,
            "metadata": {},
            "outputs": [
                {
                    "data": {
                        "text/plain": "2.3666666666666667"
                    },
                    "execution_count": 17,
                    "metadata": {},
                    "output_type": "execute_result"
                }
            ],
            "source": [
                "# Name the variables meaningfully\n",
                "\n",
                "total_hours = total_min / 60 # Total length of movies in hours \n",
                "total_hours"
            ]
        },
        {
            "attachments": {},
            "cell_type": "markdown",
            "metadata": {},
            "source": [
                "In the cells above we added the length of three videos in minutes and stored it in total_min. We then divided it by 60 to calculate total length total_hours in hours. You can also do it all at once in a single expression, as long as you use parenthesis to add the movies length before you divide, as shown below."
            ]
        },
        {
            "cell_type": "code",
            "execution_count": 18,
            "metadata": {},
            "outputs": [
                {
                    "data": {
                        "text/plain": "2.3666666666666667"
                    },
                    "execution_count": 18,
                    "metadata": {},
                    "output_type": "execute_result"
                }
            ],
            "source": [
                "# Complicate expression\n",
                "\n",
                "total_hours = (43 + 42 + 57) / 60  # Total hours in a single expression\n",
                "total_hours"
            ]
        },
        {
            "attachments": {},
            "cell_type": "markdown",
            "metadata": {},
            "source": [
                "\u003cp\u003eIf you'd rather have total hours as an integer, you can of course replace the floating point division with integer division (i.e., \u003ccode\u003e//\u003c/code\u003e).\u003c/p\u003e\n",
                ""
            ]
        },
        {
            "attachments": {},
            "cell_type": "markdown",
            "metadata": {},
            "source": [
                "**Exercise**"
            ]
        },
        {
            "attachments": {},
            "cell_type": "markdown",
            "metadata": {},
            "source": [
                "\u003cp\u003eWhat is the value of \u003ccode\u003ex\u003c/code\u003e where \u003ccode\u003ex = 3 + 2 * 2\u003c/code\u003e\u003c/p\u003e\n",
                ""
            ]
        },
        {
            "cell_type": "code",
            "execution_count": 19,
            "metadata": {},
            "outputs": [],
            "source": [
                "# Write your code below. Don't forget to press Shift+Enter to execute the cell\n",
                ""
            ]
        },
        {
            "attachments": {},
            "cell_type": "markdown",
            "metadata": {},
            "source": [
                "\u003cdetails\u003e\u003csummary\u003eClick here for the solution\u003c/summary\u003e\n",
                "\n",
                "```python\n",
                "7\n",
                "\n",
                "```\n",
                "\n",
                "\u003c/details\u003e\n",
                ""
            ]
        },
        {
            "attachments": {},
            "cell_type": "markdown",
            "metadata": {},
            "source": [
                "\u003cp\u003eWhat is the value of \u003ccode\u003ey\u003c/code\u003e where \u003ccode\u003ey = (3 + 2) * 2\u003c/code\u003e?\u003c/p\u003e\n",
                ""
            ]
        },
        {
            "cell_type": "code",
            "execution_count": 20,
            "metadata": {},
            "outputs": [],
            "source": [
                "# Write your code below. Don't forget to press Shift+Enter to execute the cell\n",
                ""
            ]
        },
        {
            "attachments": {},
            "cell_type": "markdown",
            "metadata": {},
            "source": [
                "\u003cdetails\u003e\u003csummary\u003eClick here for the solution\u003c/summary\u003e\n",
                "\n",
                "```python\n",
                "10\n",
                "\n",
                "```\n",
                "\n",
                "\u003c/details\u003e\n",
                ""
            ]
        },
        {
            "attachments": {},
            "cell_type": "markdown",
            "metadata": {},
            "source": [
                "\u003cp\u003eWhat is the value of \u003ccode\u003ez\u003c/code\u003e where \u003ccode\u003ez = x + y\u003c/code\u003e?\u003c/p\u003e\n",
                ""
            ]
        },
        {
            "cell_type": "code",
            "execution_count": 21,
            "metadata": {},
            "outputs": [],
            "source": [
                "# Write your code below. Don't forget to press Shift+Enter to execute the cell\n",
                ""
            ]
        },
        {
            "attachments": {},
            "cell_type": "markdown",
            "metadata": {},
            "source": [
                "\u003cdetails\u003e\u003csummary\u003eClick here for the solution\u003c/summary\u003e\n",
                "\n",
                "```python\n",
                "17\n",
                "\n",
                "```\n",
                "\n",
                "\u003c/details\u003e\n",
                ""
            ]
        }
    ]
}
