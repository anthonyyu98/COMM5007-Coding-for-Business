{
    "metadata": {
        "kernelspec": {
            "name": "python3",
            "display_name": "Python 3 (ipykernel)",
            "language": "python"
        }
    },
    "nbformat": 4,
    "nbformat_minor": 0,
    "cells": [
        {
            "attachments": {},
            "cell_type": "markdown",
            "metadata": {},
            "source": [
                "## **Tuples**"
            ]
        },
        {
            "attachments": {},
            "cell_type": "markdown",
            "metadata": {},
            "source": [
                "In Python, a tuple is an **immutable** sequence data type. This means that once you create a tuple, you **cannot** change the values it contains: you **cannot** add, remove, or modify the values in the tuple."
            ]
        },
        {
            "attachments": {},
            "cell_type": "markdown",
            "metadata": {},
            "source": [
                "Tuples are created using parentheses (), and the values inside the tuple are separated by commas. Now, let us create our first tuple including three values.\n",
                ""
            ]
        },
        {
            "cell_type": "code",
            "execution_count": 2,
            "metadata": {},
            "outputs": [
                {
                    "data": {
                        "text/plain": "('country music', 10, 3.5)"
                    },
                    "execution_count": 2,
                    "metadata": {},
                    "output_type": "execute_result"
                }
            ],
            "source": [
                "# Create a tuple\n",
                "\n",
                "tuple1 = (\"country music\", 10, 3.5)  # music style, music type No., avg length\n",
                "tuple1\n",
                ""
            ]
        },
        {
            "attachments": {},
            "cell_type": "markdown",
            "metadata": {},
            "source": [
                "The type of the variable we created is a **tuple**.\n",
                ""
            ]
        },
        {
            "cell_type": "code",
            "execution_count": 3,
            "metadata": {},
            "outputs": [
                {
                    "data": {
                        "text/plain": "tuple"
                    },
                    "execution_count": 3,
                    "metadata": {},
                    "output_type": "execute_result"
                }
            ],
            "source": [
                "# Print the type of the tuple you created\n",
                "\n",
                "type(tuple1)"
            ]
        },
        {
            "attachments": {},
            "cell_type": "markdown",
            "metadata": {},
            "source": [
                "### **Indexing**"
            ]
        },
        {
            "attachments": {},
            "cell_type": "markdown",
            "metadata": {},
            "source": [
                "Each element of a tuple can be accessed via an index. \n",
                ""
            ]
        },
        {
            "attachments": {},
            "cell_type": "markdown",
            "metadata": {},
            "source": [
                "We can print out each value in the tuple:\n",
                ""
            ]
        },
        {
            "cell_type": "code",
            "execution_count": 4,
            "metadata": {},
            "outputs": [
                {
                    "name": "stdout",
                    "output_type": "stream",
                    "text": "country music\n10\n3.5\n"
                }
            ],
            "source": [
                "# Print the variable on each index\n",
                "\n",
                "print(tuple1[0])\n",
                "print(tuple1[1])\n",
                "print(tuple1[2])"
            ]
        },
        {
            "attachments": {},
            "cell_type": "markdown",
            "metadata": {},
            "source": [
                "We can print out the **type** of each value in the tuple:\n",
                ""
            ]
        },
        {
            "cell_type": "code",
            "execution_count": 5,
            "metadata": {},
            "outputs": [
                {
                    "name": "stdout",
                    "output_type": "stream",
                    "text": "\u003cclass 'str'\u003e\n\u003cclass 'int'\u003e\n\u003cclass 'float'\u003e\n"
                }
            ],
            "source": [
                "# Print the type of value on each index\n",
                "\n",
                "print(type(tuple1[0]))\n",
                "print(type(tuple1[1]))\n",
                "print(type(tuple1[2]))"
            ]
        },
        {
            "attachments": {},
            "cell_type": "markdown",
            "metadata": {},
            "source": [
                "We can also use negative indexing. We use the same table above with negative values."
            ]
        },
        {
            "attachments": {},
            "cell_type": "markdown",
            "metadata": {},
            "source": [
                "We can obtain the last element as follows:\n",
                ""
            ]
        },
        {
            "cell_type": "code",
            "execution_count": 6,
            "metadata": {},
            "outputs": [
                {
                    "data": {
                        "text/plain": "3.5"
                    },
                    "execution_count": 6,
                    "metadata": {},
                    "output_type": "execute_result"
                }
            ],
            "source": [
                "# Use negative index to get the value of the last element\n",
                "\n",
                "tuple1[-1]"
            ]
        },
        {
            "attachments": {},
            "cell_type": "markdown",
            "metadata": {},
            "source": [
                "We can display the next two elements as follows:\n",
                ""
            ]
        },
        {
            "cell_type": "code",
            "execution_count": 7,
            "metadata": {},
            "outputs": [
                {
                    "data": {
                        "text/plain": "10"
                    },
                    "execution_count": 7,
                    "metadata": {},
                    "output_type": "execute_result"
                }
            ],
            "source": [
                "# Use negative index to get the value of the second last element\n",
                "\n",
                "tuple1[-2]"
            ]
        },
        {
            "cell_type": "code",
            "execution_count": 8,
            "metadata": {},
            "outputs": [
                {
                    "data": {
                        "text/plain": "'country music'"
                    },
                    "execution_count": 8,
                    "metadata": {},
                    "output_type": "execute_result"
                }
            ],
            "source": [
                "# Use negative index to get the value of the third last element\n",
                "\n",
                "tuple1[-3]"
            ]
        },
        {
            "attachments": {},
            "cell_type": "markdown",
            "metadata": {},
            "source": [
                "### **Concatenate Tuples**"
            ]
        },
        {
            "attachments": {},
            "cell_type": "markdown",
            "metadata": {},
            "source": [
                "We can concatenate or combine tuples by using the **+** sign:\n",
                ""
            ]
        },
        {
            "cell_type": "code",
            "execution_count": 9,
            "metadata": {},
            "outputs": [
                {
                    "data": {
                        "text/plain": "('country music', 10, 3.5, 25010, 'yes')"
                    },
                    "execution_count": 9,
                    "metadata": {},
                    "output_type": "execute_result"
                }
            ],
            "source": [
                "# Concatenate two tuples\n",
                "tuple1 = (\"country music\", 10, 3.5) \n",
                "tuple2 = tuple1 + (25010, \"yes\") #total music count, availability\n",
                "tuple2\n",
                ""
            ]
        },
        {
            "attachments": {},
            "cell_type": "markdown",
            "metadata": {},
            "source": [
                "We now have a new tuple called tuple2 which has five values:\n",
                ""
            ]
        },
        {
            "attachments": {},
            "cell_type": "markdown",
            "metadata": {},
            "source": [
                "*'country music', 10, 3.5, 25010, 'yes'*"
            ]
        },
        {
            "attachments": {},
            "cell_type": "markdown",
            "metadata": {},
            "source": [
                "### **Slicing**"
            ]
        },
        {
            "attachments": {},
            "cell_type": "markdown",
            "metadata": {},
            "source": [
                "We can slice tuples, obtaining new tuples with the corresponding elements:\n",
                ""
            ]
        },
        {
            "cell_type": "code",
            "execution_count": 10,
            "metadata": {},
            "outputs": [
                {
                    "data": {
                        "text/plain": "('country music', 10, 3.5)"
                    },
                    "execution_count": 10,
                    "metadata": {},
                    "output_type": "execute_result"
                }
            ],
            "source": [
                "# Slice from index 0 to index 2\n",
                "\n",
                "tuple2[0:3]"
            ]
        },
        {
            "attachments": {},
            "cell_type": "markdown",
            "metadata": {},
            "source": [
                "We can obtain the last two elements of the tuple:\n",
                ""
            ]
        },
        {
            "cell_type": "code",
            "execution_count": 11,
            "metadata": {},
            "outputs": [
                {
                    "data": {
                        "text/plain": "(25010, 'yes')"
                    },
                    "execution_count": 11,
                    "metadata": {},
                    "output_type": "execute_result"
                }
            ],
            "source": [
                "# Slice from index 3 to index 4\n",
                "\n",
                "tuple2[3:5]"
            ]
        },
        {
            "attachments": {},
            "cell_type": "markdown",
            "metadata": {},
            "source": [
                "We can obtain the length of a tuple using the length command:\n",
                ""
            ]
        },
        {
            "cell_type": "code",
            "execution_count": 12,
            "metadata": {},
            "outputs": [
                {
                    "data": {
                        "text/plain": "5"
                    },
                    "execution_count": 12,
                    "metadata": {},
                    "output_type": "execute_result"
                }
            ],
            "source": [
                "# Get the length of tuple\n",
                "\n",
                "len(tuple2)"
            ]
        },
        {
            "attachments": {},
            "cell_type": "markdown",
            "metadata": {},
            "source": [
                "### **Sorting**"
            ]
        },
        {
            "attachments": {},
            "cell_type": "markdown",
            "metadata": {},
            "source": [
                "Consider the following tuple:\n",
                ""
            ]
        },
        {
            "cell_type": "code",
            "execution_count": 13,
            "metadata": {
                "collapsed": true
            },
            "outputs": [],
            "source": [
                "# A sample tuple\n",
                "\n",
                "scores = (0, 3, 2, 5, 10, 8, 9) "
            ]
        },
        {
            "attachments": {},
            "cell_type": "markdown",
            "metadata": {},
            "source": [
                "We can sort the values in a tuple and save it to a new tuple (noted that the `sorted` function will return a list):\n",
                ""
            ]
        },
        {
            "cell_type": "code",
            "execution_count": 24,
            "metadata": {},
            "outputs": [
                {
                    "data": {
                        "text/plain": "(0, 2, 3, 5, 8, 9, 10)"
                    },
                    "execution_count": 24,
                    "metadata": {},
                    "output_type": "execute_result"
                }
            ],
            "source": [
                "# Sort the tuple - note that sorted function returns a list\n",
                "scoresSorted = sorted(scores)\n",
                "scoresSorted = tuple(scoresSorted)\n",
                "scoresSorted"
            ]
        },
        {
            "attachments": {},
            "cell_type": "markdown",
            "metadata": {},
            "source": [
                "### **Nested Tuple**"
            ]
        },
        {
            "attachments": {},
            "cell_type": "markdown",
            "metadata": {},
            "source": [
                "A tuple can contain another tuple as well as other data types. This is called 'nesting'. See below the example:\n",
                ""
            ]
        },
        {
            "cell_type": "code",
            "execution_count": 15,
            "metadata": {},
            "outputs": [
                {
                    "data": {
                        "text/plain": "(('country music', 'country and western'), 10, 3.5)"
                    },
                    "execution_count": 15,
                    "metadata": {},
                    "output_type": "execute_result"
                }
            ],
            "source": [
                "# Create a nested tuple\n",
                "\n",
                "tuple_nested = ( (\"country music\", \"country and western\") , 10, 3.5) \n",
                "tuple_nested"
            ]
        },
        {
            "attachments": {},
            "cell_type": "markdown",
            "metadata": {},
            "source": [
                "\n",
                "\n",
                "Each element in the tuple, including the nested tuples, can be obtained via an index.\n",
                ""
            ]
        },
        {
            "cell_type": "code",
            "execution_count": 16,
            "metadata": {},
            "outputs": [
                {
                    "name": "stdout",
                    "output_type": "stream",
                    "text": "Element 0 of Tuple:  ('country music', 'country and western')\nElement 1 of Tuple:  10\nElement 2 of Tuple:  3.5\n"
                }
            ],
            "source": [
                "# Print element on each index\n",
                "\n",
                "print(\"Element 0 of Tuple: \", tuple_nested[0])\n",
                "print(\"Element 1 of Tuple: \", tuple_nested[1])\n",
                "print(\"Element 2 of Tuple: \", tuple_nested[2])\n",
                ""
            ]
        },
        {
            "attachments": {},
            "cell_type": "markdown",
            "metadata": {},
            "source": [
                "We can use the second index to access the 2nd level tuple(s).\n",
                ""
            ]
        },
        {
            "attachments": {},
            "cell_type": "markdown",
            "metadata": {},
            "source": [
                "We can access the nested tuples:\n",
                ""
            ]
        },
        {
            "cell_type": "code",
            "execution_count": 17,
            "metadata": {},
            "outputs": [
                {
                    "name": "stdout",
                    "output_type": "stream",
                    "text": "tuple_nested[0] is:   ('country music', 'country and western')\ntuple_nested[0][0] is:   country music\ntuple_nested[0][1] is:   country and western\n"
                }
            ],
            "source": [
                "# Print element on each index, including nest indexes\n",
                "print(\"tuple_nested[0] is:  \",   tuple_nested[0])\n",
                "print(\"tuple_nested[0][0] is:  \",   tuple_nested[0][0])\n",
                "print(\"tuple_nested[0][1] is:  \",   tuple_nested[0][1])"
            ]
        },
        {
            "attachments": {},
            "cell_type": "markdown",
            "metadata": {},
            "source": [
                "### **Exercise**\n",
                ""
            ]
        },
        {
            "attachments": {},
            "cell_type": "markdown",
            "metadata": {},
            "source": [
                "Consider the following tuple:\n",
                ""
            ]
        },
        {
            "cell_type": "code",
            "execution_count": 18,
            "metadata": {},
            "outputs": [
                {
                    "data": {
                        "text/plain": "('pop music', 'rock music', 'country music', 'disco')"
                    },
                    "execution_count": 18,
                    "metadata": {},
                    "output_type": "execute_result"
                }
            ],
            "source": [
                "# sample tuple\n",
                "\n",
                "genres_tuple = (\"pop music\", \"rock music\", \"country music\", \"disco\") \n",
                "genres_tuple"
            ]
        },
        {
            "attachments": {},
            "cell_type": "markdown",
            "metadata": {},
            "source": [
                "Find the length of the tuple, \u003ccode\u003egenres_tuple\u003c/code\u003e:\n",
                ""
            ]
        },
        {
            "cell_type": "code",
            "execution_count": 19,
            "metadata": {},
            "outputs": [],
            "source": [
                "# Write your code below and press Shift+Enter to execute\n",
                ""
            ]
        },
        {
            "attachments": {},
            "cell_type": "markdown",
            "metadata": {},
            "source": [
                "\u003cdetails\u003e\u003csummary\u003eClick here for the solution\u003c/summary\u003e\n",
                "\n",
                "```python\n",
                "len(genres_tuple)\n",
                "```\n",
                "\n",
                "\u003c/details\u003e\n",
                ""
            ]
        },
        {
            "attachments": {},
            "cell_type": "markdown",
            "metadata": {},
            "source": [
                "Access the element, with respect to index 3:\n",
                ""
            ]
        },
        {
            "cell_type": "code",
            "execution_count": 20,
            "metadata": {},
            "outputs": [],
            "source": [
                "# Write your code below and press Shift+Enter to execute\n",
                ""
            ]
        },
        {
            "attachments": {},
            "cell_type": "markdown",
            "metadata": {},
            "source": [
                "\u003cdetails\u003e\u003csummary\u003eClick here for the solution\u003c/summary\u003e\n",
                "\n",
                "```python\n",
                "genres_tuple[3]\n",
                "\n",
                "```\n",
                "\n",
                "\u003c/details\u003e\n",
                ""
            ]
        },
        {
            "attachments": {},
            "cell_type": "markdown",
            "metadata": {},
            "source": [
                "Find the first two elements of the tuple \u003ccode\u003egenres_tuple\u003c/code\u003e:\n",
                ""
            ]
        },
        {
            "cell_type": "code",
            "execution_count": 21,
            "metadata": {},
            "outputs": [],
            "source": [
                "# Write your code below and press Shift+Enter to execute\n",
                ""
            ]
        },
        {
            "attachments": {},
            "cell_type": "markdown",
            "metadata": {},
            "source": [
                "\u003cdetails\u003e\u003csummary\u003eClick here for the solution\u003c/summary\u003e\n",
                "\n",
                "```python\n",
                "genres_tuple[0:2]\n",
                "\n",
                "```\n",
                "\n",
                "\u003c/details\u003e\n",
                ""
            ]
        },
        {
            "attachments": {},
            "cell_type": "markdown",
            "metadata": {},
            "source": [
                "Find the index of \u003ccode\u003e\"rock music\"\u003c/code\u003e:\n",
                ""
            ]
        },
        {
            "cell_type": "code",
            "execution_count": 26,
            "metadata": {},
            "outputs": [],
            "source": [
                "# Write your code below and press Shift+Enter to execute\n",
                "\n",
                ""
            ]
        },
        {
            "attachments": {},
            "cell_type": "markdown",
            "metadata": {},
            "source": [
                "\u003cdetails\u003e\u003csummary\u003eClick here for the solution\u003c/summary\u003e\n",
                "\n",
                "```python\n",
                "genres_tuple.index(\"rock music\")\n",
                "\n",
                "```\n",
                "\n",
                "\u003c/details\u003e\n",
                ""
            ]
        },
        {
            "attachments": {},
            "cell_type": "markdown",
            "metadata": {},
            "source": [
                "Generate a sorted List from the Tuple \u003ccode\u003evalues=(-1, 2, -3)\u003c/code\u003e:\n",
                ""
            ]
        },
        {
            "cell_type": "code",
            "execution_count": 27,
            "metadata": {},
            "outputs": [],
            "source": [
                "# Write your code below and press Shift+Enter to execute\n",
                ""
            ]
        },
        {
            "attachments": {},
            "cell_type": "markdown",
            "metadata": {},
            "source": [
                "\u003cdetails\u003e\u003csummary\u003eClick here for the solution\u003c/summary\u003e\n",
                "\n",
                "```python\n",
                "values =(-1, 2, -3)\n",
                "sorted _list = sorted(values)\n",
                "sorted _list\n",
                "\n",
                "```\n",
                "\n",
                "\u003c/details\u003e\n",
                ""
            ]
        }
    ]
}
