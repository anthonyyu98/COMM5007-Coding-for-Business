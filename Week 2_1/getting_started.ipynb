{
    "metadata": {
        "kernelspec": {
            "name": "python3",
            "display_name": "Python 3 (ipykernel)",
            "language": "python"
        }
    },
    "nbformat": 4,
    "nbformat_minor": 2,
    "cells": [
        {
            "attachments": {},
            "cell_type": "markdown",
            "metadata": {},
            "source": [
                "# Lab 2\n",
                "# Aim\n",
                "\n",
                "* Understand Arithmetic Operators\n",
                "* Understand Escape Sequence\n",
                "* Understand String Operations\n",
                "\n",
                "\n",
                "## Key concepts\n",
                "By the end of this week, you should be able to check all the boxes below\n",
                "\n",
                "\u003cinput type=\"checkbox\"\u003e\n",
                "\u003clabel\u003e Arithmetic Operators\u003c/label\u003e\u003cbr\u003e\n",
                "\u003cinput type=\"checkbox\"\u003e\n",
                "\u003clabel\u003e Escape Sequence\u003c/label\u003e\u003cbr\u003e\n",
                "\u003cinput type=\"checkbox\"\u003e\n",
                "\u003clabel\u003e String Operations\u003c/label\u003e\u003cbr\u003e\n",
                "\n",
                "\n",
                ""
            ]
        }
    ]
}
