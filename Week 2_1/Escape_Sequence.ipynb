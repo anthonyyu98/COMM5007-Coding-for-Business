{
    "cells": [
        {
            "attachments": {},
            "cell_type": "markdown",
            "metadata": {},
            "source": [
                "## **Escape Sequence**"
            ]
        },
        {
            "attachments": {},
            "cell_type": "markdown",
            "metadata": {},
            "source": [
                "### **Single and Double Quotes**"
            ]
        },
        {
            "attachments": {},
            "cell_type": "markdown",
            "metadata": {},
            "source": [
                "The most common use of single and double quotes is to represent strings. \n",
                "\n",
                "`quotes_single = 'a string'`\n",
                "\n",
                "`quotes_double = \"a string\"`\n",
                "\n",
                "As shown in the code, we create two strings using single and double quotes, respectively."
            ]
        },
        {
            "cell_type": "code",
            "execution_count": 1,
            "metadata": {},
            "outputs": [
                {
                    "name": "stdout",
                    "output_type": "stream",
                    "text": [
                        "a string\n"
                    ]
                }
            ],
            "source": [
                "quotes_single = 'a string'\n",
                "print(quotes_single)"
            ]
        },
        {
            "cell_type": "code",
            "execution_count": 2,
            "metadata": {},
            "outputs": [
                {
                    "name": "stdout",
                    "output_type": "stream",
                    "text": [
                        "a string\n"
                    ]
                }
            ],
            "source": [
                "quotes_double = \"a string\"\n",
                "print(quotes_double)"
            ]
        },
        {
            "attachments": {},
            "cell_type": "markdown",
            "metadata": {},
            "source": [
                "As you notice, the strings created by using single and double quotes are the same."
            ]
        },
        {
            "attachments": {},
            "cell_type": "markdown",
            "metadata": {},
            "source": [
                "There are times when the `print()` function doesn’t output\n",
                "exactly what we want. See below the example:"
            ]
        },
        {
            "cell_type": "code",
            "execution_count": 3,
            "metadata": {},
            "outputs": [
                {
                    "ename": "SyntaxError",
                    "evalue": "invalid syntax (1127255688.py, line 1)",
                    "output_type": "error",
                    "traceback": [
                        "\u001b[0;36m  Cell \u001b[0;32mIn[1], line 1\u001b[0;36m\u001b[0m\n\u001b[0;31m    txt = \"You are the \"Rock.\"\"\u001b[0m\n\u001b[0m                        ^\u001b[0m\n\u001b[0;31mSyntaxError\u001b[0m\u001b[0;31m:\u001b[0m invalid syntax\n"
                    ]
                }
            ],
            "source": [
                "txt = \"You are the \"Rock.\"\"\n",
                "print(txt)"
            ]
        },
        {
            "attachments": {},
            "cell_type": "markdown",
            "metadata": {},
            "source": [
                "We will get an error if using double quotes inside a string that is surrounded by double quotes."
            ]
        },
        {
            "attachments": {},
            "cell_type": "markdown",
            "metadata": {},
            "source": [
                "### **Using Escape Sequence**"
            ]
        },
        {
            "attachments": {},
            "cell_type": "markdown",
            "metadata": {},
            "source": [
                "Again, it is illegal to direct use a double quote inside a\n",
                "string that is surrounded by double quotes."
            ]
        },
        {
            "cell_type": "code",
            "execution_count": 4,
            "metadata": {},
            "outputs": [
                {
                    "ename": "SyntaxError",
                    "evalue": "invalid syntax (3905042846.py, line 1)",
                    "output_type": "error",
                    "traceback": [
                        "\u001b[0;36m  Cell \u001b[0;32mIn[1], line 1\u001b[0;36m\u001b[0m\n\u001b[0;31m    myString = \"We are the so-called \"Vikings\" from the north.\"\u001b[0m\n\u001b[0m                                      ^\u001b[0m\n\u001b[0;31mSyntaxError\u001b[0m\u001b[0;31m:\u001b[0m invalid syntax\n"
                    ]
                }
            ],
            "source": [
                "myString = \"We are the so-called \"Vikings\" from the north.\" "
            ]
        },
        {
            "attachments": {},
            "cell_type": "markdown",
            "metadata": {},
            "source": [
                "Another example:"
            ]
        },
        {
            "cell_type": "code",
            "execution_count": 5,
            "metadata": {},
            "outputs": [
                {
                    "ename": "SyntaxError",
                    "evalue": "unterminated string literal (detected at line 1) (1567198526.py, line 1)",
                    "output_type": "error",
                    "traceback": [
                        "\u001b[0;36m  Cell \u001b[0;32mIn[1], line 1\u001b[0;36m\u001b[0m\n\u001b[0;31m    myString = \"I am 5'4\"\"\u001b[0m\n\u001b[0m                         ^\u001b[0m\n\u001b[0;31mSyntaxError\u001b[0m\u001b[0;31m:\u001b[0m unterminated string literal (detected at line 1)\n"
                    ]
                }
            ],
            "source": [
                "myString = \"I am 5'4\"\""
            ]
        },
        {
            "attachments": {},
            "cell_type": "markdown",
            "metadata": {},
            "source": [
                "To insert characters that are “illegal” in a string, use an escape character."
            ]
        },
        {
            "attachments": {},
            "cell_type": "markdown",
            "metadata": {},
            "source": [
                "The backslash character `\\` is used to “escape” a special character in Python.\n",
                "\n",
                "The backslash character goes in front of the character we want to “escape.”"
            ]
        },
        {
            "attachments": {},
            "cell_type": "markdown",
            "metadata": {},
            "source": [
                "In Python strings, the backslash `\\` is called the \"escape\" character. It is used to “escape” a special character (e.g., `\" '`) in Python."
            ]
        },
        {
            "cell_type": "code",
            "execution_count": 6,
            "metadata": {},
            "outputs": [
                {
                    "name": "stdout",
                    "output_type": "stream",
                    "text": [
                        "I am 5'4\"\n"
                    ]
                }
            ],
            "source": [
                "print(\"I am 5'4\\\"\")\n"
            ]
        },
        {
            "attachments": {},
            "cell_type": "markdown",
            "metadata": {},
            "source": [
                "In the above example, we have `\\` in front of the quote inside the string. `I am 5'4\\\"`"
            ]
        },
        {
            "cell_type": "code",
            "execution_count": 7,
            "metadata": {},
            "outputs": [
                {
                    "name": "stdout",
                    "output_type": "stream",
                    "text": [
                        "We are the so-called \"Vikings\" from the north.\n"
                    ]
                }
            ],
            "source": [
                "print (\"We are the so-called \\\"Vikings\\\" from the north.\")"
            ]
        },
        {
            "attachments": {},
            "cell_type": "markdown",
            "metadata": {},
            "source": [
                "In the above example, we have \\ in front of the quote inside the string."
            ]
        },
        {
            "attachments": {},
            "cell_type": "markdown",
            "metadata": {},
            "source": [
                "We call the combination of the backslash character and the character we want to “escape” an **escape sequence**."
            ]
        },
        {
            "attachments": {},
            "cell_type": "markdown",
            "metadata": {},
            "source": [
                "e.g., in **I am 5'4\\\"**,  the escape sequence is `\\\"`"
            ]
        },
        {
            "attachments": {},
            "cell_type": "markdown",
            "metadata": {},
            "source": [
                "Therefore, the easiest way to print out `I am 5'4\"` is:"
            ]
        },
        {
            "cell_type": "code",
            "execution_count": 8,
            "metadata": {},
            "outputs": [
                {
                    "name": "stdout",
                    "output_type": "stream",
                    "text": [
                        "I am 5'4\"\n"
                    ]
                }
            ],
            "source": [
                "print(\"I am 5'4\\\"\")\n",
                "# In this example, the string is inside double quotes. We have the escape sequence \\\""
            ]
        },
        {
            "attachments": {},
            "cell_type": "markdown",
            "metadata": {},
            "source": [
                "There are other ways that can print out `I am 5'4\"`"
            ]
        },
        {
            "cell_type": "code",
            "execution_count": 9,
            "metadata": {},
            "outputs": [
                {
                    "name": "stdout",
                    "output_type": "stream",
                    "text": [
                        "I am 5'4\"\n"
                    ]
                }
            ],
            "source": [
                "print('I am 5\\'4\"')\n",
                "# In this example, the string is inside single quotes. We have the escape sequence \\'"
            ]
        },
        {
            "cell_type": "code",
            "execution_count": 10,
            "metadata": {},
            "outputs": [
                {
                    "name": "stdout",
                    "output_type": "stream",
                    "text": [
                        "I am 5'4\"\n"
                    ]
                }
            ],
            "source": [
                "print(\"I am 5\\'4\\\"\")\n",
                "# In this example, the string is inside double quotes. We have the escape sequences \\' and \\\""
            ]
        },
        {
            "attachments": {},
            "cell_type": "markdown",
            "metadata": {},
            "source": [
                "### **Using Escape Sequences in Representing Certain Whitespace**"
            ]
        },
        {
            "attachments": {},
            "cell_type": "markdown",
            "metadata": {},
            "source": [
                "The backslash `\\` can also be used to represent certain whilespaces"
            ]
        },
        {
            "attachments": {},
            "cell_type": "markdown",
            "metadata": {},
            "source": [
                "e.g.\n",
                "\n",
                "⎻ \"\\t\" is a tab,\n",
                "\n",
                "⎻ \"\\n\" is a newline\n"
            ]
        },
        {
            "attachments": {},
            "cell_type": "markdown",
            "metadata": {},
            "source": [
                "**string with \\t**"
            ]
        },
        {
            "cell_type": "code",
            "execution_count": 11,
            "metadata": {},
            "outputs": [
                {
                    "name": "stdout",
                    "output_type": "stream",
                    "text": [
                        "\t\n"
                    ]
                }
            ],
            "source": [
                "print (\"\\t\")"
            ]
        },
        {
            "cell_type": "code",
            "execution_count": 12,
            "metadata": {},
            "outputs": [
                {
                    "name": "stdout",
                    "output_type": "stream",
                    "text": [
                        "\tI'm tabbed in.\n"
                    ]
                }
            ],
            "source": [
                "str1 = \"\\tI'm tabbed in.\"\n",
                "print(str1)"
            ]
        },
        {
            "attachments": {},
            "cell_type": "markdown",
            "metadata": {},
            "source": [
                "`\\t` here adds a tab"
            ]
        },
        {
            "attachments": {},
            "cell_type": "markdown",
            "metadata": {},
            "source": [
                "**string with \\n**"
            ]
        },
        {
            "cell_type": "code",
            "execution_count": 13,
            "metadata": {},
            "outputs": [
                {
                    "name": "stdout",
                    "output_type": "stream",
                    "text": [
                        "\n",
                        "\n"
                    ]
                }
            ],
            "source": [
                "print (\"\\n\")"
            ]
        },
        {
            "cell_type": "code",
            "execution_count": 14,
            "metadata": {},
            "outputs": [
                {
                    "name": "stdout",
                    "output_type": "stream",
                    "text": [
                        "We are splitting\n",
                        "a line.\n"
                    ]
                }
            ],
            "source": [
                "str2 = \"We are splitting\\na line.\"\n",
                "print(str2)"
            ]
        },
        {
            "attachments": {},
            "cell_type": "markdown",
            "metadata": {},
            "source": [
                "`\\n` adds a newline"
            ]
        },
        {
            "attachments": {},
            "cell_type": "markdown",
            "metadata": {},
            "source": [
                "### **Triple Quotes**"
            ]
        },
        {
            "attachments": {},
            "cell_type": "markdown",
            "metadata": {},
            "source": [
                "We need to escape single or double quotes depending on what enclosing quotes the string uses. Actually, we can use triple quotes (i.e., triplet of single quotes or triplet double quotes) to represent the strings containing both single and double quotes to eliminate the need of escaping any."
            ]
        },
        {
            "cell_type": "code",
            "execution_count": 15,
            "metadata": {},
            "outputs": [
                {
                    "name": "stdout",
                    "output_type": "stream",
                    "text": [
                        "She said, \"Thank you! It's mine.\"\n"
                    ]
                }
            ],
            "source": [
                "print('''She said, \"Thank you! It's mine.\"''')\n"
            ]
        },
        {
            "cell_type": "code",
            "execution_count": 16,
            "metadata": {},
            "outputs": [
                {
                    "name": "stdout",
                    "output_type": "stream",
                    "text": [
                        "I am 5'4\"\n"
                    ]
                }
            ],
            "source": [
                "print('''I am 5'4\"''')"
            ]
        },
        {
            "attachments": {},
            "cell_type": "markdown",
            "metadata": {},
            "source": [
                "Another use case of the triple quotes is to represent a multi-line string. "
            ]
        },
        {
            "cell_type": "code",
            "execution_count": 17,
            "metadata": {},
            "outputs": [
                {
                    "name": "stdout",
                    "output_type": "stream",
                    "text": [
                        "Hello\n",
                        "World\n",
                        "!\n"
                    ]
                }
            ],
            "source": [
                "print(\"\"\"Hello\n",
                "World\n",
                "!\"\"\")"
            ]
        },
        {
            "cell_type": "code",
            "execution_count": 18,
            "metadata": {},
            "outputs": [
                {
                    "name": "stdout",
                    "output_type": "stream",
                    "text": [
                        "Hello\n",
                        "World\n",
                        "!\n"
                    ]
                }
            ],
            "source": [
                "print('''Hello\n",
                "World\n",
                "!''')"
            ]
        },
        {
            "attachments": {},
            "cell_type": "markdown",
            "metadata": {},
            "source": [
                "You can use also use single or double quotes with escape sequences in this case to get the same results."
            ]
        },
        {
            "cell_type": "code",
            "execution_count": 19,
            "metadata": {},
            "outputs": [
                {
                    "name": "stdout",
                    "output_type": "stream",
                    "text": [
                        "Hello\n",
                        "World\n",
                        "!\n"
                    ]
                }
            ],
            "source": [
                "print('Hello\\nWorld\\n!')"
            ]
        },
        {
            "attachments": {},
            "cell_type": "markdown",
            "metadata": {},
            "source": [
                "Although we can achieve the same effect by using the `\\n` symbols to create multi-line strings, using the `\\n` symbols makes the string harder to read. By contrast, using triple quotes can write the string in the way how it exactly looks like, and thus it has better readability."
            ]
        },
        {
            "attachments": {},
            "cell_type": "markdown",
            "metadata": {},
            "source": [
                "We can use escape sequences in triple quotes"
            ]
        },
        {
            "cell_type": "code",
            "execution_count": 3,
            "metadata": {},
            "outputs": [],
            "source": [
                "todo_list= \"\"\"\n",
                "I'll do a list of things:\n",
                "\\t- read\n",
                "\\t- write\n",
                "\\t- report\n",
                "\"\"\""
            ]
        },
        {
            "cell_type": "code",
            "execution_count": 4,
            "metadata": {},
            "outputs": [
                {
                    "name": "stdout",
                    "output_type": "stream",
                    "text": [
                        "\n",
                        "I'll do a list of things:\n",
                        "\t- read\n",
                        "\t- write\n",
                        "\t- report\n",
                        "\n"
                    ]
                }
            ],
            "source": [
                "print(todo_list)\n"
            ]
        }
    ],
    "metadata": {
        "kernelspec": {
            "display_name": "Python 3 (ipykernel)",
            "language": "python",
            "name": "python3"
        },
        "language_info": {
            "codemirror_mode": {
                "name": "ipython",
                "version": 3
            },
            "file_extension": ".py",
            "mimetype": "text/x-python",
            "name": "python",
            "nbconvert_exporter": "python",
            "pygments_lexer": "ipython3",
            "version": "3.12.0"
        }
    },
    "nbformat": 4,
    "nbformat_minor": 0
}
