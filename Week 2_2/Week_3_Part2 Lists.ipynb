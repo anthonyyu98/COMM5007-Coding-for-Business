{
    "metadata": {
        "kernelspec": {
            "name": "python3",
            "display_name": "Python 3 (ipykernel)",
            "language": "python"
        }
    },
    "nbformat": 4,
    "nbformat_minor": 1,
    "cells": [
        {
            "attachments": {},
            "cell_type": "markdown",
            "metadata": {},
            "source": [
                "## **Lists**"
            ]
        },
        {
            "attachments": {},
            "cell_type": "markdown",
            "metadata": {},
            "source": [
                "In Python, a list is a data type that represents an ordered sequence of values. Lists are created using square brackets [], and the values inside the list are separated by commas. Here's an example of creating a list in Python:"
            ]
        },
        {
            "cell_type": "code",
            "execution_count": 2,
            "metadata": {},
            "outputs": [],
            "source": [
                "my_list = [1, 2, 3]"
            ]
        },
        {
            "attachments": {},
            "cell_type": "markdown",
            "metadata": {},
            "source": [
                "### **Indexing**\n",
                ""
            ]
        },
        {
            "attachments": {},
            "cell_type": "markdown",
            "metadata": {},
            "source": [
                "We are going to take a look at lists in Python. A list is a sequenced collection of different objects such as integers, strings, and even other lists as well. The address of each element within a list is called an \u003cb\u003eindex\u003c/b\u003e. An index is used to access and refer to items within a list.\n",
                ""
            ]
        },
        {
            "attachments": {},
            "cell_type": "markdown",
            "metadata": {},
            "source": [
                "To create a list, type the list within square brackets \u003cb\u003e\\[ ]\u003c/b\u003e, with your content inside the parenthesis and separated by commas. Let’s try it!\n",
                ""
            ]
        },
        {
            "cell_type": "code",
            "execution_count": 3,
            "metadata": {},
            "outputs": [
                {
                    "data": {
                        "text/plain": "['Michael Jackson', 10.1, 1982]"
                    },
                    "execution_count": 3,
                    "metadata": {},
                    "output_type": "execute_result"
                }
            ],
            "source": [
                "# Create a list\n",
                "\n",
                "L = [\"Michael Jackson\", 10.1, 1982]\n",
                "L"
            ]
        },
        {
            "attachments": {},
            "cell_type": "markdown",
            "metadata": {},
            "source": [
                "We can use negative and regular indexing with a list:\n",
                ""
            ]
        },
        {
            "cell_type": "code",
            "execution_count": 4,
            "metadata": {},
            "outputs": [
                {
                    "name": "stdout",
                    "output_type": "stream",
                    "text": "the same element using negative and positive indexing:\n Postive: Michael Jackson \n Negative: Michael Jackson\nthe same element using negative and positive indexing:\n Postive: 10.1 \n Negative: 10.1\nthe same element using negative and positive indexing:\n Postive: 1982 \n Negative: 1982\n"
                }
            ],
            "source": [
                "# Print the elements on each index\n",
                "\n",
                "print('the same element using negative and positive indexing:\\n Postive:',L[0],\n",
                "'\\n Negative:' , L[-3]  )\n",
                "print('the same element using negative and positive indexing:\\n Postive:',L[1],\n",
                "'\\n Negative:' , L[-2]  )\n",
                "print('the same element using negative and positive indexing:\\n Postive:',L[2],\n",
                "'\\n Negative:' , L[-1]  )"
            ]
        },
        {
            "attachments": {},
            "cell_type": "markdown",
            "metadata": {},
            "source": [
                "### **List Content**\n",
                ""
            ]
        },
        {
            "attachments": {},
            "cell_type": "markdown",
            "metadata": {},
            "source": [
                "Lists can contain strings, floats, and integers. We can nest other lists, and we can also nest tuples and other data structures. The same indexing conventions apply for nesting:\n",
                ""
            ]
        },
        {
            "cell_type": "code",
            "execution_count": 5,
            "metadata": {},
            "outputs": [
                {
                    "data": {
                        "text/plain": "['Michael Jackson', 10.1, 1982, [1, 2], ('A', 1)]"
                    },
                    "execution_count": 5,
                    "metadata": {},
                    "output_type": "execute_result"
                }
            ],
            "source": [
                "# Sample List\n",
                "\n",
                "[\"Michael Jackson\", 10.1, 1982, [1, 2], (\"A\", 1)]"
            ]
        },
        {
            "attachments": {},
            "cell_type": "markdown",
            "metadata": {},
            "source": [
                "### **List Operations**\n",
                ""
            ]
        },
        {
            "attachments": {},
            "cell_type": "markdown",
            "metadata": {},
            "source": [
                "We can also perform slicing in lists. For example, if we want the last two elements, we use the following command:\n",
                ""
            ]
        },
        {
            "cell_type": "code",
            "execution_count": 6,
            "metadata": {},
            "outputs": [
                {
                    "data": {
                        "text/plain": "['Michael Jackson', 10.1, 1982, 'MJ', 1]"
                    },
                    "execution_count": 6,
                    "metadata": {},
                    "output_type": "execute_result"
                }
            ],
            "source": [
                "# Sample List\n",
                "\n",
                "L = [\"Michael Jackson\", 10.1,1982,\"MJ\",1]\n",
                "L"
            ]
        },
        {
            "cell_type": "code",
            "execution_count": 7,
            "metadata": {},
            "outputs": [
                {
                    "data": {
                        "text/plain": "['MJ', 1]"
                    },
                    "execution_count": 7,
                    "metadata": {},
                    "output_type": "execute_result"
                }
            ],
            "source": [
                "# List slicing\n",
                "\n",
                "L[3:5]"
            ]
        },
        {
            "attachments": {},
            "cell_type": "markdown",
            "metadata": {},
            "source": [
                "We can use the method \u003ccode\u003eextend\u003c/code\u003e to add new elements to the list:\n",
                ""
            ]
        },
        {
            "cell_type": "code",
            "execution_count": 8,
            "metadata": {},
            "outputs": [
                {
                    "data": {
                        "text/plain": "['Michael Jackson', 10.2, 'pop', 10]"
                    },
                    "execution_count": 8,
                    "metadata": {},
                    "output_type": "execute_result"
                }
            ],
            "source": [
                "# Use extend to add elements to list\n",
                "\n",
                "L = [ \"Michael Jackson\", 10.2]\n",
                "L.extend(['pop', 10])\n",
                "L"
            ]
        },
        {
            "attachments": {},
            "cell_type": "markdown",
            "metadata": {},
            "source": [
                "Another similar method is \u003ccode\u003eappend\u003c/code\u003e. If we apply \u003ccode\u003eappend\u003c/code\u003e instead of \u003ccode\u003eextend\u003c/code\u003e, we add one element to the list:\n",
                ""
            ]
        },
        {
            "cell_type": "code",
            "execution_count": 9,
            "metadata": {},
            "outputs": [
                {
                    "data": {
                        "text/plain": "['Michael Jackson', 10.2, ['pop', 10]]"
                    },
                    "execution_count": 9,
                    "metadata": {},
                    "output_type": "execute_result"
                }
            ],
            "source": [
                "# Use append to add elements to list\n",
                "\n",
                "L = [ \"Michael Jackson\", 10.2]\n",
                "L.append(['pop', 10])\n",
                "L"
            ]
        },
        {
            "attachments": {},
            "cell_type": "markdown",
            "metadata": {},
            "source": [
                "Each time we apply a method, the list changes. If we apply \u003ccode\u003eextend\u003c/code\u003e we add two new elements to the list. The list \u003ccode\u003eL\u003c/code\u003e is then modified by adding two new elements:\n",
                ""
            ]
        },
        {
            "cell_type": "code",
            "execution_count": 10,
            "metadata": {},
            "outputs": [
                {
                    "data": {
                        "text/plain": "['Michael Jackson', 10.2, 'pop', 10]"
                    },
                    "execution_count": 10,
                    "metadata": {},
                    "output_type": "execute_result"
                }
            ],
            "source": [
                "# Use extend to add elements to list\n",
                "\n",
                "L = [ \"Michael Jackson\", 10.2]\n",
                "L.extend(['pop', 10])\n",
                "L"
            ]
        },
        {
            "attachments": {},
            "cell_type": "markdown",
            "metadata": {},
            "source": [
                "If we append the list  \u003ccode\u003e\\['a','b']\u003c/code\u003e we have one new element consisting of a nested list:\n",
                ""
            ]
        },
        {
            "cell_type": "code",
            "execution_count": 11,
            "metadata": {},
            "outputs": [
                {
                    "data": {
                        "text/plain": "['Michael Jackson', 10.2, 'pop', 10, ['a', 'b']]"
                    },
                    "execution_count": 11,
                    "metadata": {},
                    "output_type": "execute_result"
                }
            ],
            "source": [
                "# Use append to add elements to list\n",
                "\n",
                "L.append(['a','b'])\n",
                "L"
            ]
        },
        {
            "attachments": {},
            "cell_type": "markdown",
            "metadata": {},
            "source": [
                "As lists are mutable, we can change the elements in a list. For example, we can change the first element as follows:\n",
                ""
            ]
        },
        {
            "cell_type": "code",
            "execution_count": 12,
            "metadata": {},
            "outputs": [
                {
                    "name": "stdout",
                    "output_type": "stream",
                    "text": "Before change: ['disco', 10, 1.2]\nAfter change: ['hard rock', 10, 1.2]\n"
                }
            ],
            "source": [
                "# Change the element based on the index\n",
                "\n",
                "A = [\"disco\", 10, 1.2]\n",
                "print('Before change:', A)\n",
                "A[0] = 'hard rock'\n",
                "print('After change:', A)"
            ]
        },
        {
            "attachments": {},
            "cell_type": "markdown",
            "metadata": {},
            "source": [
                "If you try the same code on Tuple - you will have an erro"
            ]
        },
        {
            "cell_type": "code",
            "execution_count": 13,
            "metadata": {},
            "outputs": [
                {
                    "name": "stdout",
                    "output_type": "stream",
                    "text": "Before change: ('disco', 10, 1.2)\n"
                },
                {
                    "ename": "TypeError",
                    "evalue": "'tuple' object does not support item assignment",
                    "output_type": "error",
                    "traceback": [
                        "\u001b[0;31m---------------------------------------------------------------------------\u001b[0m",
                        "\u001b[0;31mTypeError\u001b[0m                                 Traceback (most recent call last)",
                        "Cell \u001b[0;32mIn[1], line 5\u001b[0m\n\u001b[1;32m      3\u001b[0m AA \u001b[38;5;241m=\u001b[39m (\u001b[38;5;124m\"\u001b[39m\u001b[38;5;124mdisco\u001b[39m\u001b[38;5;124m\"\u001b[39m, \u001b[38;5;241m10\u001b[39m, \u001b[38;5;241m1.2\u001b[39m)\n\u001b[1;32m      4\u001b[0m \u001b[38;5;28mprint\u001b[39m(\u001b[38;5;124m'\u001b[39m\u001b[38;5;124mBefore change:\u001b[39m\u001b[38;5;124m'\u001b[39m, AA)\n\u001b[0;32m----\u003e 5\u001b[0m \u001b[43mAA\u001b[49m\u001b[43m[\u001b[49m\u001b[38;5;241;43m0\u001b[39;49m\u001b[43m]\u001b[49m \u001b[38;5;241m=\u001b[39m \u001b[38;5;124m'\u001b[39m\u001b[38;5;124mhard rock\u001b[39m\u001b[38;5;124m'\u001b[39m\n\u001b[1;32m      6\u001b[0m \u001b[38;5;28mprint\u001b[39m(\u001b[38;5;124m'\u001b[39m\u001b[38;5;124mAfter change:\u001b[39m\u001b[38;5;124m'\u001b[39m, AA)\n",
                        "\u001b[0;31mTypeError\u001b[0m: 'tuple' object does not support item assignment"
                    ]
                }
            ],
            "source": [
                "# Change the element based on the index\n",
                "\n",
                "# AA = (\"disco\", 10, 1.2)\n",
                "# print('Before change:', AA)\n",
                "# AA[0] = 'hard rock'\n",
                "# print('After change:', AA)"
            ]
        },
        {
            "attachments": {},
            "cell_type": "markdown",
            "metadata": {},
            "source": [
                "We can also delete an element of a list using the \u003ccode\u003edel\u003c/code\u003e command:\n",
                ""
            ]
        },
        {
            "cell_type": "code",
            "execution_count": 0,
            "metadata": {},
            "outputs": [],
            "source": [
                "# Delete the element based on the index\n",
                "\n",
                "print('Before change:', A)\n",
                "del(A[0])\n",
                "print('After change:', A)"
            ]
        },
        {
            "attachments": {},
            "cell_type": "markdown",
            "metadata": {},
            "source": [
                "We can convert a string to a list using \u003ccode\u003esplit\u003c/code\u003e.  For example, the method \u003ccode\u003esplit\u003c/code\u003e translates every group of characters separated by a space into an element in a list:\n",
                ""
            ]
        },
        {
            "cell_type": "code",
            "execution_count": 0,
            "metadata": {},
            "outputs": [],
            "source": [
                "# Split the string, default is by space\n",
                "\n",
                "'hard rock'.split()"
            ]
        },
        {
            "attachments": {},
            "cell_type": "markdown",
            "metadata": {},
            "source": [
                "We can use the split function to separate strings on a specific character which we call a **delimiter**. We pass the character we would like to split on into the argument, which in this case is a comma.  The result is a list, and each element corresponds to a set of characters that have been separated by a comma:\n",
                ""
            ]
        },
        {
            "cell_type": "code",
            "execution_count": 0,
            "metadata": {},
            "outputs": [],
            "source": [
                "# Split the string by comma\n",
                "\n",
                "'A,B,C,D'.split(',')"
            ]
        },
        {
            "attachments": {},
            "cell_type": "markdown",
            "metadata": {},
            "source": [
                "### **Copy and Clone List**\n",
                ""
            ]
        },
        {
            "attachments": {},
            "cell_type": "markdown",
            "metadata": {},
            "source": [
                "When we set one variable \u003cb\u003eB\u003c/b\u003e equal to \u003cb\u003eA\u003c/b\u003e, both \u003cb\u003eA\u003c/b\u003e and \u003cb\u003eB\u003c/b\u003e are referencing the same list in memory:\n",
                ""
            ]
        },
        {
            "cell_type": "code",
            "execution_count": 2,
            "metadata": {},
            "outputs": [
                {
                    "name": "stdout",
                    "output_type": "stream",
                    "text": "A: ['hard rock', 10, 1.2]\nB: ['hard rock', 10, 1.2]\n"
                }
            ],
            "source": [
                "# Copy (copy by reference) the list A\n",
                "\n",
                "A = [\"hard rock\", 10, 1.2]\n",
                "B = A\n",
                "print('A:', A)\n",
                "print('B:', B)"
            ]
        },
        {
            "attachments": {},
            "cell_type": "markdown",
            "metadata": {},
            "source": [
                "Initially, the value of the first element in \u003cb\u003eB\u003c/b\u003e is set as \"hard rock\". If we change the first element in \u003cb\u003eA\u003c/b\u003e to \u003cb\u003e\"banana\"\u003c/b\u003e, we get an unexpected side effect.  As \u003cb\u003eA\u003c/b\u003e and \u003cb\u003eB\u003c/b\u003e are referencing the same list, if we change list \u003cb\u003eA\u003c/b\u003e, then list \u003cb\u003eB\u003c/b\u003e also changes. If we check the first element of \u003cb\u003eB\u003c/b\u003e we get \"banana\" instead of \"hard rock\":\n",
                ""
            ]
        },
        {
            "cell_type": "code",
            "execution_count": 3,
            "metadata": {},
            "outputs": [
                {
                    "name": "stdout",
                    "output_type": "stream",
                    "text": "B[0]: hard rock\nB[0]: banana\n"
                }
            ],
            "source": [
                "# Examine the copy by reference\n",
                "\n",
                "print('B[0]:', B[0])\n",
                "A[0] = \"banana\"\n",
                "print('B[0]:', B[0])"
            ]
        },
        {
            "attachments": {},
            "cell_type": "markdown",
            "metadata": {},
            "source": [
                "You can clone list **A** by using  the following syntax:\n",
                ""
            ]
        },
        {
            "cell_type": "code",
            "execution_count": 4,
            "metadata": {},
            "outputs": [
                {
                    "data": {
                        "text/plain": [
                            "['banana', 10, 1.2]"
                        ]
                    },
                    "execution_count": 4,
                    "metadata": {},
                    "output_type": "execute_result"
                }
            ],
            "source": [
                "# Clone (clone by value) the list A\n",
                "\n",
                "B = A[:]\n",
                "B"
            ]
        },
        {
            "attachments": {},
            "cell_type": "markdown",
            "metadata": {},
            "source": [
                "Variable **B** references a new copy or clone of the original list. This is demonstrated in the following figure:\n",
                ""
            ]
        },
        {
            "attachments": {},
            "cell_type": "markdown",
            "metadata": {},
            "source": [
                "Now if you change \u003cb\u003eA\u003c/b\u003e, \u003cb\u003eB\u003c/b\u003e will not change:\n",
                ""
            ]
        },
        {
            "cell_type": "code",
            "execution_count": 5,
            "metadata": {},
            "outputs": [
                {
                    "name": "stdout",
                    "output_type": "stream",
                    "text": "B[0]: banana\nB[0]: banana\n"
                }
            ],
            "source": [
                "print('B[0]:', B[0])\n",
                "A[0] = \"hard rock\"\n",
                "print('B[0]:', B[0])"
            ]
        },
        {
            "attachments": {},
            "cell_type": "markdown",
            "metadata": {},
            "source": [
                "### **Exercise**\n",
                ""
            ]
        },
        {
            "attachments": {},
            "cell_type": "markdown",
            "metadata": {},
            "source": [
                "Create a list \u003ccode\u003ea_list\u003c/code\u003e, with the following elements \u003ccode\u003e1\u003c/code\u003e, \u003ccode\u003ehello\u003c/code\u003e, \u003ccode\u003e\\[1,2,3]\u003c/code\u003e and \u003ccode\u003eTrue\u003c/code\u003e.\n",
                ""
            ]
        },
        {
            "cell_type": "code",
            "execution_count": 0,
            "metadata": {},
            "outputs": [],
            "source": [
                "# Write your code below and press Shift+Enter to execute\n",
                ""
            ]
        },
        {
            "attachments": {},
            "cell_type": "markdown",
            "metadata": {},
            "source": [
                "\u003cdetails\u003e\u003csummary\u003eClick here for the solution\u003c/summary\u003e\n",
                "\n",
                "```python\n",
                "a_list = [1, 'hello', [1, 2, 3] , True]\n",
                "a_list\n",
                "\n",
                "```\n",
                "\n",
                "\u003c/details\u003e\n",
                ""
            ]
        },
        {
            "attachments": {},
            "cell_type": "markdown",
            "metadata": {},
            "source": [
                "Find the value stored at index 1 of \u003ccode\u003ea_list\u003c/code\u003e.\n",
                ""
            ]
        },
        {
            "cell_type": "code",
            "execution_count": 0,
            "metadata": {},
            "outputs": [],
            "source": [
                "# Write your code below and press Shift+Enter to execute\n",
                ""
            ]
        },
        {
            "attachments": {},
            "cell_type": "markdown",
            "metadata": {},
            "source": [
                "\u003cdetails\u003e\u003csummary\u003eClick here for the solution\u003c/summary\u003e\n",
                "\n",
                "```python\n",
                "a_list[1]\n",
                "\n",
                "```\n",
                "\n",
                "\u003c/details\u003e\n",
                ""
            ]
        },
        {
            "attachments": {},
            "cell_type": "markdown",
            "metadata": {},
            "source": [
                "Retrieve the elements stored at index 1, 2 and 3 of \u003ccode\u003ea_list\u003c/code\u003e.\n",
                ""
            ]
        },
        {
            "cell_type": "code",
            "execution_count": 0,
            "metadata": {},
            "outputs": [],
            "source": [
                "# Write your code below and press Shift+Enter to execute\n",
                ""
            ]
        },
        {
            "attachments": {},
            "cell_type": "markdown",
            "metadata": {},
            "source": [
                "\u003cdetails\u003e\u003csummary\u003eClick here for the solution\u003c/summary\u003e\n",
                "\n",
                "```python\n",
                "a_list[1:4]\n",
                "\n",
                "```\n",
                "\n",
                "\u003c/details\u003e\n",
                ""
            ]
        },
        {
            "attachments": {},
            "cell_type": "markdown",
            "metadata": {},
            "source": [
                "Concatenate the following lists \u003ccode\u003eA = \\[1, 'a']\u003c/code\u003e and \u003ccode\u003eB = \\[2, 1, 'd']\u003c/code\u003e:\n",
                ""
            ]
        },
        {
            "cell_type": "code",
            "execution_count": 0,
            "metadata": {
                "collapsed": true
            },
            "outputs": [],
            "source": [
                "# Write your code below and press Shift+Enter to execute\n",
                ""
            ]
        },
        {
            "attachments": {},
            "cell_type": "markdown",
            "metadata": {},
            "source": [
                "\u003cdetails\u003e\u003csummary\u003eClick here for the solution\u003c/summary\u003e\n",
                "\n",
                "```python\n",
                "A = [1, 'a'] \n",
                "B = [2, 1, 'd']\n",
                "A + B\n",
                "\n",
                "```\n",
                "\n",
                "\u003c/details\u003e\n",
                ""
            ]
        },
        {
            "attachments": {},
            "cell_type": "markdown",
            "metadata": {},
            "source": [
                "\u003chr\u003e"
            ]
        }
    ]
}
