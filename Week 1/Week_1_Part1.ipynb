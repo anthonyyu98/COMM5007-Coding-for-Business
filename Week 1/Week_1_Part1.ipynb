{
    "cells": [
        {
            "attachments": {},
            "cell_type": "markdown",
            "metadata": {},
            "source": [
                "# Lab 1\n",
                "# Aim\n",
                "* Understand python basics\n",
                "\n",
                "## Key concepts\n",
                "By the end of this week, you should be able to check all the boxes below\n",
                "\n",
                "<input type=\"checkbox\">\n",
                "<label> Whitespace and indentation</label><br>\n",
                "<input type=\"checkbox\">\n",
                "<label> Comment</label><br>\n",
                "<input type=\"checkbox\">\n",
                "<label> Error Message</label><br>\n",
                "<input type=\"checkbox\">\n",
                "<label> Variables</label><br>\n",
                "<input type=\"checkbox\">\n",
                "<label> Data Types</label><br>\n"
            ]
        },
        {
            "attachments": {},
            "cell_type": "markdown",
            "metadata": {},
            "source": [
                "### **Print Python version**"
            ]
        },
        {
            "attachments": {},
            "cell_type": "markdown",
            "metadata": {},
            "source": [
                "<p>\n",
                "    There are different versions of the Python programming language in use, e.g, Python 2 and Python 3.\n",
                "</p>\n",
                "<p>\n",
                "    We will use Python 3 in this course.\n",
                "</p>\n",
                "<p>\n",
                "    We can print python version via following code:\n",
                "</p>\n"
            ]
        },
        {
            "cell_type": "code",
            "execution_count": 1,
            "metadata": {},
            "outputs": [
                {
                    "name": "stdout",
                    "output_type": "stream",
                    "text": [
                        "3.11.3 (main, Jun  5 2023, 09:32:32) [GCC 13.1.1 20230429]\n"
                    ]
                }
            ],
            "source": [
                "# Check the Python Version\n",
                "import sys\n",
                "print(sys.version)"
            ]
        },
        {
            "attachments": {},
            "cell_type": "markdown",
            "metadata": {},
            "source": [
                "**sys** is a Python built-in module.\n",
                "\n",
                "sys function contains many system-specific parameters and functions, including the Python version information.\n",
                "\n",
                "Here we can import the library and use it in the print( ) function."
            ]
        },
        {
            "attachments": {},
            "cell_type": "markdown",
            "metadata": {},
            "source": [
                "**Python 3 is the latest version of the Python programming language**, and it is recommended for new development because it has a number of improvements over Python 2. Some of the main reasons to use Python 3 include:\n",
                "\n",
                "1. Improved support for Unicode: Python 3 has better support for Unicode, making it easier to work with text in different languages and encodings.\n",
                "\n",
                "2. Better handling of integers: In Python 2, dividing two integers always resulted in an integer, even if the result was not a whole number. In Python 3, the result of dividing two integers is always a float.\n",
                "\n",
                "3. Improved error handling: Python 3 has improved syntax for handling exceptions, which makes it easier to write robust code that can gracefully handle errors and exceptions.\n",
                "\n",
                "4. Improved support for asynchronous programming: Python 3 has built-in support for asynchronous programming, which makes it easier to write code that can run concurrently and take advantage of multiple processors or cores.\n",
                "\n",
                "5. Backward compatibility issues: While Python 3 is not completely backwards compatible with Python 2, it is possible to run most Python 2 code in Python 3 using the 2to3 tool. However, it is generally recommended to write new code using Python 3, since Python 2 is no longer under active development."
            ]
        },
        {
            "attachments": {},
            "cell_type": "markdown",
            "metadata": {},
            "source": [
                "### **Whitespace and indentation**"
            ]
        },
        {
            "attachments": {},
            "cell_type": "markdown",
            "metadata": {},
            "source": [
                "In Python, whitespace (spaces, tabs, and blank lines) is used to structure code and indicate the blocks of code that belong together. Indentation refers to the use of whitespace at the beginning of a line to indicate the block of code that it belongs to."
            ]
        },
        {
            "cell_type": "code",
            "execution_count": 2,
            "metadata": {},
            "outputs": [
                {
                    "name": "stdout",
                    "output_type": "stream",
                    "text": [
                        "x is positive\n",
                        "This line is also part of the if block\n",
                        "This line is not part of the if block\n"
                    ]
                }
            ],
            "source": [
                "x = 5\n",
                "if x > 0:\n",
                "    print(\"x is positive\")\n",
                "    print(\"This line is also part of the if block\")\n",
                "print(\"This line is not part of the if block\")\n"
            ]
        },
        {
            "attachments": {},
            "cell_type": "markdown",
            "metadata": {},
            "source": [
                "In this code, the lines `print(\"x is positive\") and print(\"This line is also part of the if block\")` are indented, indicating that they are part of the block of code that belongs to the if statement. The line `print(\"This line is not part of the if block\")` is not indented, so it is not part of the if block."
            ]
        },
        {
            "attachments": {},
            "cell_type": "markdown",
            "metadata": {},
            "source": [
                "<b style=\"color:red; \">Indentation is important in Python because it is used to indicate the structure of the code. In Python, the level of indentation is significant, and the same level of indentation must be used consistently throughout the program. Inconsistent indentation can cause syntax errors and make your code difficult to read.</b>\n"
            ]
        },
        {
            "attachments": {},
            "cell_type": "markdown",
            "metadata": {},
            "source": [
                "It is a good practice to use whitespace and indentation consistently in your Python code to make it easier to read and understand. **It is generally recommended to use four spaces for each level of indentation, although some programmers prefer to use tabs.** The Python style guide recommends using four spaces for indentation, and most code editors can be configured to automatically convert tabs to spaces."
            ]
        },
        {
            "attachments": {},
            "cell_type": "markdown",
            "metadata": {},
            "source": [
                "### **Write comments**"
            ]
        },
        {
            "attachments": {},
            "cell_type": "markdown",
            "metadata": {},
            "source": [
                "It's a very good habit to add **comments** to your code.\n",
                "\n",
                "A comment will be a helpful reminder to you when you come back to your own code months later.\n",
                "\n",
                "Comments can be used to interpret the reason why you wrote the snippet of code.\n",
                "\n",
                "Comments will also help other peers who read your code.\n",
                "\n",
                "To write a comment in Python, use **#** to start the code line. When you execute your code, Python will ignore the line starting with #."
            ]
        },
        {
            "cell_type": "code",
            "execution_count": 3,
            "metadata": {},
            "outputs": [
                {
                    "name": "stdout",
                    "output_type": "stream",
                    "text": [
                        "Hello, world!\n"
                    ]
                }
            ],
            "source": [
                "# Practice on writing comments\n",
                "print('Hello, world!') # This line prints a string\n",
                "# print('Hi!')"
            ]
        },
        {
            "attachments": {},
            "cell_type": "markdown",
            "metadata": {},
            "source": [
                "<p>\n",
                "comment are ignored by Python when executed.\n",
                "</p>\n",
                "<p>\n",
                "The 3rd line in the above example was also not executed because <code># print('Hi!')</code> was preceded by the number sign (<code>#</code>) !\n",
                "</p>\n"
            ]
        },
        {
            "attachments": {},
            "cell_type": "markdown",
            "metadata": {},
            "source": [
                "### **Error prompts in Python**\n"
            ]
        },
        {
            "attachments": {},
            "cell_type": "markdown",
            "metadata": {},
            "source": [
                "If you make a mistake, Python in most cases tells you by giving you an error prompt.</p> \n",
                "\n",
                "It is important to read error messages.</p>\n",
                "\n"
            ]
        },
        {
            "cell_type": "code",
            "execution_count": 4,
            "metadata": {},
            "outputs": [
                {
                    "ename": "NameError",
                    "evalue": "name 'prrint' is not defined",
                    "output_type": "error",
                    "traceback": [
                        "\u001b[0;31m---------------------------------------------------------------------------\u001b[0m",
                        "\u001b[0;31mNameError\u001b[0m                                 Traceback (most recent call last)",
                        "Cell \u001b[0;32mIn[1], line 2\u001b[0m\n\u001b[1;32m      1\u001b[0m \u001b[38;5;66;03m# Print string as error message\u001b[39;00m\n\u001b[0;32m----> 2\u001b[0m \u001b[43mprrint\u001b[49m(\u001b[38;5;124m\"\u001b[39m\u001b[38;5;124mHello, world!\u001b[39m\u001b[38;5;124m\"\u001b[39m)\n",
                        "\u001b[0;31mNameError\u001b[0m: name 'prrint' is not defined"
                    ]
                }
            ],
            "source": [
                "# Print string as error message\n",
                "prrint(\"Hello, world!\")"
            ]
        },
        {
            "attachments": {},
            "cell_type": "markdown",
            "metadata": {},
            "source": [
                "<p>The error message tells you: \n",
                "<ol>\n",
                "    <li>the line where the error occurred and</li> \n",
                "    <li>the type of error </li> \n",
                "</ol>\n",
                "<p>Here, Python attempted to run the function <code>prrint</code>, but could not identify what <code>prrint</code> is. Here <code>prrint</code> is not a built-in function and it has not been previously defined in this python code.</p>\n"
            ]
        },
        {
            "attachments": {},
            "cell_type": "markdown",
            "metadata": {},
            "source": [
                "<p>\n",
                "    You'll notice that if we make a different type of mistake:\n",
                "</p>\n"
            ]
        },
        {
            "cell_type": "code",
            "execution_count": 3,
            "metadata": {},
            "outputs": [
                {
                    "ename": "ZeroDivisionError",
                    "evalue": "division by zero",
                    "output_type": "error",
                    "traceback": [
                        "\u001b[0;31m---------------------------------------------------------------------------\u001b[0m",
                        "\u001b[0;31mZeroDivisionError\u001b[0m                         Traceback (most recent call last)",
                        "Cell \u001b[0;32mIn[1], line 2\u001b[0m\n\u001b[1;32m      1\u001b[0m \u001b[38;5;66;03m# Try to see build in error message\u001b[39;00m\n\u001b[0;32m----> 2\u001b[0m x \u001b[38;5;241m=\u001b[39m \u001b[38;5;241;43m5\u001b[39;49m\u001b[43m \u001b[49m\u001b[38;5;241;43m/\u001b[39;49m\u001b[43m \u001b[49m\u001b[38;5;241;43m0\u001b[39;49m\n",
                        "\u001b[0;31mZeroDivisionError\u001b[0m: division by zero"
                    ]
                }
            ],
            "source": [
                "# Try to see build in error message\n",
                "x = 5 / 0"
            ]
        },
        {
            "attachments": {},
            "cell_type": "markdown",
            "metadata": {},
            "source": [
                "<p>\n",
                "In this example, the error message consists of several parts:\n",
                "\n",
                "1. Traceback: The traceback is a list of the calls that were made in the program leading up to the error. It shows the line of code where the error occurred and the function or module that was executing at the time.\n",
                "\n",
                "2. Error type: The error type is the name of the exception that was raised. In this example, the error is a ZeroDivisionError, which occurs when you try to divide a number by zero.\n",
                "\n",
                "3. Error message: The error message is a description of the error that occurred. In this example, the message is division by zero, which indicates that the error occurred when the program tried to divide a number by zero.\n",
                "</p>"
            ]
        },
        {
            "attachments": {},
            "cell_type": "markdown",
            "metadata": {},
            "source": [
                "Python is an <em>interpreted language</em>. Python interprets your script line by line as it executes it. Python will stop executing the code when it encounters an error.\n"
            ]
        },
        {
            "cell_type": "code",
            "execution_count": 5,
            "metadata": {},
            "outputs": [
                {
                    "name": "stdout",
                    "output_type": "stream",
                    "text": [
                        "This will be printed\n"
                    ]
                },
                {
                    "ename": "NameError",
                    "evalue": "name 'prrint' is not defined",
                    "output_type": "error",
                    "traceback": [
                        "\u001b[0;31m---------------------------------------------------------------------------\u001b[0m",
                        "\u001b[0;31mNameError\u001b[0m                                 Traceback (most recent call last)",
                        "Input \u001b[0;32mIn [1]\u001b[0m, in \u001b[0;36m<cell line: 3>\u001b[0;34m()\u001b[0m\n\u001b[1;32m      1\u001b[0m \u001b[38;5;66;03m# Print string and error to see the running order\u001b[39;00m\n\u001b[1;32m      2\u001b[0m \u001b[38;5;28mprint\u001b[39m(\u001b[38;5;124m\"\u001b[39m\u001b[38;5;124mThis will be printed\u001b[39m\u001b[38;5;124m\"\u001b[39m)\n\u001b[0;32m----> 3\u001b[0m \u001b[43mprrint\u001b[49m(\u001b[38;5;124m\"\u001b[39m\u001b[38;5;124mThis will cause an error\u001b[39m\u001b[38;5;124m\"\u001b[39m)\n\u001b[1;32m      4\u001b[0m \u001b[38;5;28mprint\u001b[39m(\u001b[38;5;124m\"\u001b[39m\u001b[38;5;124mThis will NOT be printed\u001b[39m\u001b[38;5;124m\"\u001b[39m)\n",
                        "\u001b[0;31mNameError\u001b[0m: name 'prrint' is not defined"
                    ]
                }
            ],
            "source": [
                "# Print string and error to see the running order\n",
                "print(\"This will be printed\")\n",
                "prrint(\"This will cause an error\")\n",
                "print(\"This will NOT be printed\")"
            ]
        },
        {
            "attachments": {},
            "cell_type": "markdown",
            "metadata": {},
            "source": [
                "### **Exercise**\n",
                "<p>In the code cell below, use the <code>print()</code> function to print out the phrase: <code>Hello, Python!</code></p>\n"
            ]
        },
        {
            "cell_type": "code",
            "execution_count": 1,
            "metadata": {},
            "outputs": [
                {
                    "name": "stdout",
                    "output_type": "stream",
                    "text": [
                        "Hello, Python!\n"
                    ]
                }
            ],
            "source": [
                "# Write your code below. Don't forget to press Shift+Enter to execute the cell\n",
                "print('Hello, Python!')"
            ]
        },
        {
            "attachments": {},
            "cell_type": "markdown",
            "metadata": {},
            "source": [
                "<details><summary>Click here for the solution</summary>\n",
                "\n",
                "```python\n",
                "print(\"Hello, python!\")\n",
                "\n",
                "```\n",
                "\n",
                "</details>\n"
            ]
        },
        {
            "attachments": {},
            "cell_type": "markdown",
            "metadata": {},
            "source": [
                "In the code cell below, print out the phrase: <code>Hello, world!</code> and in the second line write a comment with the phrase <code>This is my comment</code> \n"
            ]
        },
        {
            "cell_type": "code",
            "execution_count": 2,
            "metadata": {},
            "outputs": [
                {
                    "name": "stdout",
                    "output_type": "stream",
                    "text": [
                        "Hello, world!\n"
                    ]
                }
            ],
            "source": [
                "print('Hello, world!')\n",
                "# This is my comment"
            ]
        },
        {
            "attachments": {},
            "cell_type": "markdown",
            "metadata": {},
            "source": [
                "<details><summary>Click here for the solution</summary>\n",
                "\n",
                "```python\n",
                "print(\"Hello, world!\") \n",
                "# This is my comment\n",
                "\n",
                "```\n",
                "\n",
                "</details>\n"
            ]
        },
        {
            "cell_type": "code",
            "execution_count": 6,
            "metadata": {},
            "outputs": [
                {
                    "name": "stdout",
                    "output_type": "stream",
                    "text": [
                        "2.0\n"
                    ]
                }
            ],
            "source": [
                "# Write your code below. Don't forget to press Shift+Enter to execute the cell\n",
                "x = 6\n",
                "y = 3\n",
                "print(x / y)\n"
            ]
        }
    ],
    "metadata": {
        "kernelspec": {
            "display_name": "Python 3 (ipykernel)",
            "language": "python",
            "name": "python3"
        },
        "language_info": {
            "name": "python",
            "version": "3.12.0"
        }
    },
    "nbformat": 4,
    "nbformat_minor": 0
}
